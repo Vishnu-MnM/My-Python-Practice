{
 "cells": [
  {
   "cell_type": "markdown",
   "id": "cb4b6590-fb4a-4c0c-8221-d439a1a2b462",
   "metadata": {},
   "source": [
    "# Python Exception Handling"
   ]
  },
  {
   "cell_type": "code",
   "execution_count": 3,
   "id": "2c5d8672-5a4e-491b-b0d7-577a3dc4749f",
   "metadata": {},
   "outputs": [
    {
     "name": "stdout",
     "output_type": "stream",
     "text": [
      "The user has not defined the variable.\n"
     ]
    }
   ],
   "source": [
    "try:\n",
    "    ##Code block where exception can occur\n",
    "    a=b\n",
    "except NameError as ex1:\n",
    "    print(\"The user has not defined the variable.\")\n",
    "except Exception as ex:\n",
    "    print(ex)"
   ]
  },
  {
   "cell_type": "code",
   "execution_count": 4,
   "id": "1eb8f6a9-36ae-48e1-8a60-5b47e48c17da",
   "metadata": {},
   "outputs": [
    {
     "name": "stdin",
     "output_type": "stream",
     "text": [
      "Enter number 1  12\n",
      "Enter number 2  4\n"
     ]
    },
    {
     "name": "stdout",
     "output_type": "stream",
     "text": [
      "48\n",
      "16\n",
      "3.0\n"
     ]
    }
   ],
   "source": [
    "# Try else block\n",
    "try:\n",
    "    ##Code block where exception can occur\n",
    "    a=int(input(\"Enter number 1 \"))\n",
    "    b=int(input(\"Enter number 2 \"))\n",
    "    c=a*b\n",
    "    d=a+b\n",
    "    e=a/b\n",
    "\n",
    "except TypeError:\n",
    "    print(\"Try to make data type similar.\")\n",
    "except ZeroDivisionError:\n",
    "    print(\"Please provide number greater than zero.\")\n",
    "except NameError:\n",
    "    print(\"The user has not defined the variable.\")\n",
    "except Exception as ex:\n",
    "    print(ex)\n",
    "else:\n",
    "    print(c)\n",
    "    print(d)\n",
    "    print(e)"
   ]
  },
  {
   "cell_type": "markdown",
   "id": "169b5c14-dd01-4ca8-a394-7f493b0da2ef",
   "metadata": {},
   "source": [
    "exception has to be at the end of the code block. Whatever errors we encounter should be written before the exception."
   ]
  },
  {
   "cell_type": "markdown",
   "id": "dd659092-3692-46eb-aba5-e0163c0facc5",
   "metadata": {},
   "source": [
    "Look at the error and in except, put that error and print what message you want to show to the front end user."
   ]
  },
  {
   "cell_type": "code",
   "execution_count": 7,
   "id": "ac352759-2882-4a0f-a443-9cca357b7b87",
   "metadata": {},
   "outputs": [
    {
     "name": "stdin",
     "output_type": "stream",
     "text": [
      "Enter number 1  12\n",
      "Enter number 2  4\n"
     ]
    },
    {
     "name": "stdout",
     "output_type": "stream",
     "text": [
      "48\n",
      "16\n",
      "3.0\n",
      "The execution is done\n"
     ]
    }
   ],
   "source": [
    "# Try else finally\n",
    "try:\n",
    "    ##Code block where exception can occur\n",
    "    a=int(input(\"Enter number 1 \"))\n",
    "    b=int(input(\"Enter number 2 \"))\n",
    "    c=a*b\n",
    "    d=a+b\n",
    "    e=a/b\n",
    "\n",
    "except TypeError:\n",
    "    print(\"Try to make data type similar.\")\n",
    "except ZeroDivisionError:\n",
    "    print(\"Please provide number greater than zero.\")\n",
    "except NameError:\n",
    "    print(\"The user has not defined the variable.\")\n",
    "except Exception as ex:\n",
    "    print(ex)\n",
    "else:\n",
    "    print(c)\n",
    "    print(d)\n",
    "    print(e)\n",
    "finally:\n",
    "    print(\"The execution is done\")"
   ]
  },
  {
   "cell_type": "markdown",
   "id": "917806d0-5b4b-4885-ac5c-d83b245c28d3",
   "metadata": {},
   "source": [
    "\"Try-else-finally\" is a robust error-handling mechanism in programming. The \"try\" block houses the code that might raise an exception, the \"else\" block executes only if no exceptions occur, and the \"finally\" block executes regardless of whether an exception was raised, often used to release resources like file handles. This ensures that critical cleanup actions are always performed, maintaining program stability and preventing resource leaks."
   ]
  },
  {
   "cell_type": "markdown",
   "id": "cdc6485a-7f3a-4074-8d28-edcf5a5f52a8",
   "metadata": {},
   "source": [
    "# Custom exception"
   ]
  },
  {
   "cell_type": "code",
   "execution_count": 10,
   "id": "23f53fcd-77f9-4e08-af1e-7a1fffed22f3",
   "metadata": {},
   "outputs": [],
   "source": [
    "class Error(Exception):\n",
    "    pass\n",
    "class dobexception(Error):\n",
    "    pass"
   ]
  },
  {
   "cell_type": "code",
   "execution_count": 16,
   "id": "44dfd87a-cadb-433a-b248-5452363625c8",
   "metadata": {},
   "outputs": [
    {
     "name": "stdin",
     "output_type": "stream",
     "text": [
      "Enter the year of Birth 1994\n"
     ]
    },
    {
     "name": "stdout",
     "output_type": "stream",
     "text": [
      "The year range is not valid. You cannot apply for exams\n"
     ]
    }
   ],
   "source": [
    "import datetime\n",
    "\n",
    "# Define the custom exception\n",
    "class dobException(Exception):\n",
    "    pass\n",
    "\n",
    "# Get the current date\n",
    "current_date = datetime.date.today().year\n",
    "year = int(input(\"Enter the year of Birth\"))\n",
    "age = current_date - year\n",
    "\n",
    "try:\n",
    "    if age <= 30 and age > 20:\n",
    "        pass\n",
    "    else:\n",
    "        raise dobException()\n",
    "except dobException:\n",
    "    print(\"The year range is not valid. You cannot apply for exams\")"
   ]
  }
 ],
 "metadata": {
  "kernelspec": {
   "display_name": "Python 3 (ipykernel)",
   "language": "python",
   "name": "python3"
  },
  "language_info": {
   "codemirror_mode": {
    "name": "ipython",
    "version": 3
   },
   "file_extension": ".py",
   "mimetype": "text/x-python",
   "name": "python",
   "nbconvert_exporter": "python",
   "pygments_lexer": "ipython3",
   "version": "3.12.7"
  }
 },
 "nbformat": 4,
 "nbformat_minor": 5
}
