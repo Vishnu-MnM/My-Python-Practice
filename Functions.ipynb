{
 "cells": [
  {
   "cell_type": "markdown",
   "id": "6d77671c-4ea3-4fd3-aa6a-d482de53a6b7",
   "metadata": {},
   "source": [
    "# Functions in Python"
   ]
  },
  {
   "cell_type": "code",
   "execution_count": 3,
   "id": "4b3bad5e-ec29-40a7-b1e6-0dc292960a78",
   "metadata": {},
   "outputs": [],
   "source": [
    "# Function\n",
    "def even_odd(num):\n",
    "    if num%2==0:\n",
    "        print(\"The number is even\")\n",
    "    else:\n",
    "        print(\"The number is odd\")"
   ]
  },
  {
   "cell_type": "code",
   "execution_count": 4,
   "id": "9c89b815-285f-44eb-896a-e76da2c05f09",
   "metadata": {},
   "outputs": [
    {
     "name": "stdout",
     "output_type": "stream",
     "text": [
      "The number is even\n"
     ]
    }
   ],
   "source": [
    "even_odd(20)"
   ]
  },
  {
   "cell_type": "code",
   "execution_count": 5,
   "id": "f750d8a2-02f2-4cc0-9727-3bea8dc58f42",
   "metadata": {},
   "outputs": [],
   "source": [
    "# print vs return\n",
    "def Hello_World():\n",
    "    return(\"Hello welcome\")"
   ]
  },
  {
   "cell_type": "code",
   "execution_count": 6,
   "id": "c4c8c482-f5da-4246-90d3-edf8e3bf4062",
   "metadata": {},
   "outputs": [],
   "source": [
    "val=Hello_World()"
   ]
  },
  {
   "cell_type": "code",
   "execution_count": 7,
   "id": "4c22d073-cd6f-4aae-af3e-38d66ba81530",
   "metadata": {},
   "outputs": [
    {
     "name": "stdout",
     "output_type": "stream",
     "text": [
      "Hello welcome\n"
     ]
    }
   ],
   "source": [
    "print(val)"
   ]
  },
  {
   "cell_type": "markdown",
   "id": "642f0e29-04a4-4d45-bf63-bbe1c80863a2",
   "metadata": {},
   "source": [
    "Print vs return: Return is used when a function is returning something back after it is getting executed.  "
   ]
  },
  {
   "cell_type": "code",
   "execution_count": 9,
   "id": "50384b3a-38da-42c3-9075-5a8b9cb35785",
   "metadata": {},
   "outputs": [],
   "source": [
    "# Positional and keyword arguments\n",
    "#Positional arguments are given after the function is defined and key arguments are defined within function itself\n",
    "def hello(name,age):\n",
    "    print(\"My name is {} and age is {}\".format(name,age))"
   ]
  },
  {
   "cell_type": "code",
   "execution_count": 10,
   "id": "b0d10bd3-d172-42a1-b413-ea9cfe87a8bc",
   "metadata": {},
   "outputs": [
    {
     "name": "stdout",
     "output_type": "stream",
     "text": [
      "My name is Sunny and age is 28\n"
     ]
    }
   ],
   "source": [
    "hello('Sunny','28')"
   ]
  },
  {
   "cell_type": "code",
   "execution_count": 11,
   "id": "7d45df87-a00b-4fe6-a7bd-72c6f42a9d93",
   "metadata": {},
   "outputs": [],
   "source": [
    "def hello(*args,**kwargs):\n",
    "    print(args)\n",
    "    print(kwargs)"
   ]
  },
  {
   "cell_type": "code",
   "execution_count": 12,
   "id": "0f378c0f-81d0-4adb-b82e-5be2cd3c7f3c",
   "metadata": {},
   "outputs": [
    {
     "name": "stdout",
     "output_type": "stream",
     "text": [
      "('Sunny', 'V')\n",
      "{'age': 28, 'dob': 1990}\n"
     ]
    }
   ],
   "source": [
    "hello(\"Sunny\",\"V\",age=28,dob=1990)"
   ]
  },
  {
   "cell_type": "code",
   "execution_count": 13,
   "id": "7151e107-0181-47f1-be0a-050d84f4a237",
   "metadata": {},
   "outputs": [],
   "source": [
    "lst=['Sunny', 'V']\n",
    "dct_args={'age': 28, 'dob': 1990}"
   ]
  },
  {
   "cell_type": "code",
   "execution_count": 14,
   "id": "8a86d95f-c460-42b4-ab49-5ddeeac81f21",
   "metadata": {},
   "outputs": [
    {
     "name": "stdout",
     "output_type": "stream",
     "text": [
      "(['Sunny', 'V'], {'age': 28, 'dob': 1990})\n",
      "{}\n"
     ]
    }
   ],
   "source": [
    "hello(lst,dct_args)"
   ]
  },
  {
   "cell_type": "code",
   "execution_count": 15,
   "id": "d41a44c8-caf4-4f0b-b57f-771bfaeaf8b1",
   "metadata": {},
   "outputs": [
    {
     "name": "stdout",
     "output_type": "stream",
     "text": [
      "('Sunny', 'V')\n",
      "{'age': 28, 'dob': 1990}\n"
     ]
    }
   ],
   "source": [
    "hello(*lst,**dct_args)"
   ]
  },
  {
   "cell_type": "code",
   "execution_count": 16,
   "id": "6d51c3e6-e96e-4b09-b297-ce8d38503a95",
   "metadata": {},
   "outputs": [],
   "source": [
    "lst=[1,2,3,4,5,6,7,8]"
   ]
  },
  {
   "cell_type": "code",
   "execution_count": 17,
   "id": "cd76cffe-1e05-42ab-bd9c-29c182323fa3",
   "metadata": {},
   "outputs": [],
   "source": [
    "def eve_odd(lst):\n",
    "    eve_sum = 0\n",
    "    odd_sum = 0\n",
    "    for i in lst:\n",
    "        if i%2==0:\n",
    "            eve_sum = eve_sum+i\n",
    "        else:\n",
    "            odd_sum = odd_sum+i\n",
    "    return eve_sum,odd_sum"
   ]
  },
  {
   "cell_type": "code",
   "execution_count": 18,
   "id": "819a7af9-7a70-41d2-845d-6907677df793",
   "metadata": {},
   "outputs": [
    {
     "data": {
      "text/plain": [
       "(20, 16)"
      ]
     },
     "execution_count": 18,
     "metadata": {},
     "output_type": "execute_result"
    }
   ],
   "source": [
    "eve_odd(lst)"
   ]
  },
  {
   "cell_type": "markdown",
   "id": "e92ce765-37bf-4a96-a185-a15905c40c31",
   "metadata": {},
   "source": [
    "# Lambda Function\n",
    "Anonymous function/function with no name."
   ]
  },
  {
   "cell_type": "code",
   "execution_count": 20,
   "id": "7513c7a7-36e8-4a6a-a85d-3a370dd3c261",
   "metadata": {},
   "outputs": [],
   "source": [
    "def add(a,b):\n",
    "    return(a+b)"
   ]
  },
  {
   "cell_type": "code",
   "execution_count": 21,
   "id": "a0d84871-1a53-483f-9a13-310eb5ff14b7",
   "metadata": {},
   "outputs": [
    {
     "data": {
      "text/plain": [
       "9"
      ]
     },
     "execution_count": 21,
     "metadata": {},
     "output_type": "execute_result"
    }
   ],
   "source": [
    "add(4,5)"
   ]
  },
  {
   "cell_type": "code",
   "execution_count": 22,
   "id": "3418dce4-96e9-438a-abbd-d0434f4821fc",
   "metadata": {},
   "outputs": [],
   "source": [
    "# Makes our functions shorter\n",
    "add=(lambda a,b: a+b)"
   ]
  },
  {
   "cell_type": "code",
   "execution_count": 23,
   "id": "7cf17a9e-0c30-480a-af44-3d5095e936ea",
   "metadata": {},
   "outputs": [
    {
     "data": {
      "text/plain": [
       "7"
      ]
     },
     "execution_count": 23,
     "metadata": {},
     "output_type": "execute_result"
    }
   ],
   "source": [
    "add(3,4)"
   ]
  },
  {
   "cell_type": "code",
   "execution_count": 24,
   "id": "6b373672-7d48-4bf1-91ab-f08d2a057c81",
   "metadata": {},
   "outputs": [],
   "source": [
    "def even(num):\n",
    "    if num%2==0:\n",
    "        return True"
   ]
  },
  {
   "cell_type": "code",
   "execution_count": 25,
   "id": "aac3eb78-da72-495d-aeac-6a58e10506cc",
   "metadata": {},
   "outputs": [
    {
     "data": {
      "text/plain": [
       "True"
      ]
     },
     "execution_count": 25,
     "metadata": {},
     "output_type": "execute_result"
    }
   ],
   "source": [
    "even(4)"
   ]
  },
  {
   "cell_type": "code",
   "execution_count": 26,
   "id": "85d0a348-1695-4152-99d1-e9c98f1cb0b5",
   "metadata": {},
   "outputs": [],
   "source": [
    "even = lambda a:a%2==0"
   ]
  },
  {
   "cell_type": "code",
   "execution_count": 27,
   "id": "c96df209-329b-419d-bd30-d524de63f3c9",
   "metadata": {},
   "outputs": [
    {
     "data": {
      "text/plain": [
       "True"
      ]
     },
     "execution_count": 27,
     "metadata": {},
     "output_type": "execute_result"
    }
   ],
   "source": [
    "even(12)"
   ]
  },
  {
   "cell_type": "code",
   "execution_count": 28,
   "id": "edb2a0cd-681a-4410-a22a-b071fec96405",
   "metadata": {},
   "outputs": [],
   "source": [
    "def addition(x,y,z):\n",
    "    return x+y+z"
   ]
  },
  {
   "cell_type": "code",
   "execution_count": 29,
   "id": "2fa5d0b2-11e8-4171-b011-68a563a2e00f",
   "metadata": {},
   "outputs": [],
   "source": [
    "add=(lambda x,y,z:x+y+z)"
   ]
  },
  {
   "cell_type": "code",
   "execution_count": 30,
   "id": "b503dded-e325-4609-be8b-880ace19cf42",
   "metadata": {},
   "outputs": [
    {
     "data": {
      "text/plain": [
       "8"
      ]
     },
     "execution_count": 30,
     "metadata": {},
     "output_type": "execute_result"
    }
   ],
   "source": [
    "add(2,3,3)"
   ]
  },
  {
   "cell_type": "markdown",
   "id": "b96b48bc-12d7-4548-a851-85b406f57d22",
   "metadata": {},
   "source": [
    "# Map Function"
   ]
  },
  {
   "cell_type": "code",
   "execution_count": 32,
   "id": "8a2ea982-0240-4e3e-9c5b-0498518423a5",
   "metadata": {},
   "outputs": [],
   "source": [
    "def even_or_odd(num):\n",
    "    if num%2 == 0:\n",
    "        return \"The number {} is even\".format(num)\n",
    "    else:\n",
    "        return \"The number {} is odd\".format(num)"
   ]
  },
  {
   "cell_type": "code",
   "execution_count": 33,
   "id": "cec7e9dd-5670-4743-954d-cc7744f77930",
   "metadata": {},
   "outputs": [],
   "source": [
    "lst=[1,2,32,3,44,45,23,53,33,32,23,22,743]"
   ]
  },
  {
   "cell_type": "code",
   "execution_count": 34,
   "id": "5477ee4b-b307-460f-852d-148f044aca49",
   "metadata": {},
   "outputs": [
    {
     "data": {
      "text/plain": [
       "['The number 1 is odd',\n",
       " 'The number 2 is even',\n",
       " 'The number 32 is even',\n",
       " 'The number 3 is odd',\n",
       " 'The number 44 is even',\n",
       " 'The number 45 is odd',\n",
       " 'The number 23 is odd',\n",
       " 'The number 53 is odd',\n",
       " 'The number 33 is odd',\n",
       " 'The number 32 is even',\n",
       " 'The number 23 is odd',\n",
       " 'The number 22 is even',\n",
       " 'The number 743 is odd']"
      ]
     },
     "execution_count": 34,
     "metadata": {},
     "output_type": "execute_result"
    }
   ],
   "source": [
    "list(map(even_or_odd,lst))"
   ]
  },
  {
   "cell_type": "markdown",
   "id": "4a41fac6-c0bc-4bb0-b105-2bad62252f08",
   "metadata": {},
   "source": [
    "# Filter function"
   ]
  },
  {
   "cell_type": "code",
   "execution_count": 36,
   "id": "0fed8b40-b76d-4aa1-b3f3-0f9b0ec07176",
   "metadata": {},
   "outputs": [],
   "source": [
    "def even(num):\n",
    "    if num%2==0:\n",
    "        return True"
   ]
  },
  {
   "cell_type": "code",
   "execution_count": 37,
   "id": "b6464cab-582d-4f5f-82df-d1b969835b85",
   "metadata": {},
   "outputs": [],
   "source": [
    "lst = [1,2,3,4,5,6,7,8,9,0]"
   ]
  },
  {
   "cell_type": "code",
   "execution_count": 38,
   "id": "4d580f21-dc64-4d1b-893a-d8e99992c3dd",
   "metadata": {},
   "outputs": [
    {
     "data": {
      "text/plain": [
       "[2, 4, 6, 8, 0]"
      ]
     },
     "execution_count": 38,
     "metadata": {},
     "output_type": "execute_result"
    }
   ],
   "source": [
    "list(filter(even,lst))"
   ]
  },
  {
   "cell_type": "code",
   "execution_count": 39,
   "id": "a64abc9c-1565-41c1-9b9c-825c251e109a",
   "metadata": {},
   "outputs": [
    {
     "data": {
      "text/plain": [
       "[2, 4, 6, 8, 0]"
      ]
     },
     "execution_count": 39,
     "metadata": {},
     "output_type": "execute_result"
    }
   ],
   "source": [
    "list(filter(lambda num:num%2==0,lst))"
   ]
  },
  {
   "cell_type": "markdown",
   "id": "55d0ab03-c705-46ae-80b2-e90dc4932ff6",
   "metadata": {},
   "source": [
    "# List Comprehension\n",
    "List comprehension provides a concise way to create lists. It consists of brackets containing an expression followed by a for clause, then zero or more for or if clauses. The expressions can be anything, meaning you can put all kinds of objects in the lists."
   ]
  },
  {
   "cell_type": "code",
   "execution_count": 91,
   "id": "e98b90d3-8613-47bb-8a52-9b9a28bd45c6",
   "metadata": {},
   "outputs": [],
   "source": [
    "lst1=[]\n",
    "def lst_square(lst):\n",
    "    for i in lst:\n",
    "        lst1.append(i*i)\n",
    "    return lst1"
   ]
  },
  {
   "cell_type": "code",
   "execution_count": 93,
   "id": "94035abc-0bd4-4237-a348-399e9d9c8c19",
   "metadata": {},
   "outputs": [
    {
     "data": {
      "text/plain": [
       "[1, 4, 9, 16, 25, 36, 49, 64]"
      ]
     },
     "execution_count": 93,
     "metadata": {},
     "output_type": "execute_result"
    }
   ],
   "source": [
    "lst_square([1,2,3,4,5,6,7,8])"
   ]
  },
  {
   "cell_type": "code",
   "execution_count": 95,
   "id": "13a2fe3b-f4cf-4613-8a0f-3553f76e492a",
   "metadata": {},
   "outputs": [],
   "source": [
    "lst=[1,2,3,4,5,6,7]\n",
    "lst1=[i*i for i in lst if i%2==0]"
   ]
  },
  {
   "cell_type": "code",
   "execution_count": 97,
   "id": "a4c28fec-6354-4085-9d71-7fa96d525b8c",
   "metadata": {},
   "outputs": [
    {
     "name": "stdout",
     "output_type": "stream",
     "text": [
      "[4, 16, 36]\n"
     ]
    }
   ],
   "source": [
    "print(lst1)"
   ]
  }
 ],
 "metadata": {
  "kernelspec": {
   "display_name": "Python 3 (ipykernel)",
   "language": "python",
   "name": "python3"
  },
  "language_info": {
   "codemirror_mode": {
    "name": "ipython",
    "version": 3
   },
   "file_extension": ".py",
   "mimetype": "text/x-python",
   "name": "python",
   "nbconvert_exporter": "python",
   "pygments_lexer": "ipython3",
   "version": "3.12.7"
  }
 },
 "nbformat": 4,
 "nbformat_minor": 5
}
