{
 "cells": [
  {
   "cell_type": "markdown",
   "id": "1a9f49de-62b5-42f2-b987-6ac658a2659d",
   "metadata": {},
   "source": [
    "# Class methods and class variables"
   ]
  },
  {
   "cell_type": "code",
   "execution_count": 4,
   "id": "cf050e1f-fbbd-47af-a991-86b279808ffc",
   "metadata": {},
   "outputs": [],
   "source": [
    "class Car:\n",
    "    base_price=100000 ##Class Variables\n",
    "    def __init__(self,windows,doors,power):\n",
    "        self.windows=windows\n",
    "        self.doors=doors\n",
    "        self.power=power\n",
    "    def what_base_price(self):\n",
    "        print(\"The base price is {}\".format(self.base_price))"
   ]
  },
  {
   "cell_type": "code",
   "execution_count": 6,
   "id": "050d14e7-6639-4114-b8ea-221e7678b940",
   "metadata": {},
   "outputs": [
    {
     "data": {
      "text/plain": [
       "100000"
      ]
     },
     "execution_count": 6,
     "metadata": {},
     "output_type": "execute_result"
    }
   ],
   "source": [
    "car1=Car(4,5,200)\n",
    "car1.base_price"
   ]
  },
  {
   "cell_type": "code",
   "execution_count": 8,
   "id": "7fe33177-7b53-4618-a14d-c7a4fc1ed6f3",
   "metadata": {},
   "outputs": [
    {
     "data": {
      "text/plain": [
       "100000"
      ]
     },
     "execution_count": 8,
     "metadata": {},
     "output_type": "execute_result"
    }
   ],
   "source": [
    "Car.base_price"
   ]
  },
  {
   "cell_type": "code",
   "execution_count": 16,
   "id": "0985ece0-279d-4f56-b6a7-9e66b9423b59",
   "metadata": {},
   "outputs": [],
   "source": [
    "class Car:\n",
    "    base_price=100000 ##Class Variables\n",
    "    def __init__(self,windows,doors,power):\n",
    "        self.windows=windows\n",
    "        self.doors=doors\n",
    "        self.power=power\n",
    "    def what_base_price(self):\n",
    "        print(\"The base price is {}\".format(self.base_price))\n",
    "    @classmethod\n",
    "    def revise_base_price(cls,inflation):\n",
    "        cls.base_price=cls.base_price+cls.base_price*inflation\n"
   ]
  },
  {
   "cell_type": "code",
   "execution_count": 18,
   "id": "1c5dcc47-1e2b-42ce-b31d-727e58c42343",
   "metadata": {},
   "outputs": [],
   "source": [
    "Car.revise_base_price(0.10)"
   ]
  },
  {
   "cell_type": "code",
   "execution_count": 20,
   "id": "10f55301-3cb3-4b67-89dc-3fdf191d7917",
   "metadata": {},
   "outputs": [
    {
     "data": {
      "text/plain": [
       "110000.0"
      ]
     },
     "execution_count": 20,
     "metadata": {},
     "output_type": "execute_result"
    }
   ],
   "source": [
    "Car.base_price"
   ]
  },
  {
   "cell_type": "code",
   "execution_count": 24,
   "id": "ec2757ff-90b8-41fa-bc1c-f6bde0ce00c8",
   "metadata": {},
   "outputs": [],
   "source": [
    "car1=Car(4,5,250)"
   ]
  },
  {
   "cell_type": "code",
   "execution_count": 26,
   "id": "12ae3e1d-580e-4481-90cf-124f9e58c907",
   "metadata": {
    "jupyter": {
     "source_hidden": true
    }
   },
   "outputs": [
    {
     "data": {
      "text/plain": [
       "110000.0"
      ]
     },
     "execution_count": 26,
     "metadata": {},
     "output_type": "execute_result"
    }
   ],
   "source": [
    "car1.base_price"
   ]
  },
  {
   "cell_type": "markdown",
   "id": "9a323946-42a0-4cac-94df-6b0c5a4607d3",
   "metadata": {},
   "source": [
    "This is how the code works:\n",
    "-  The Car class is defined with a class variable base_price.\n",
    "-  The __init__ method initializes the instance variables windows, doors, and power.\n",
    "-  The what_base_price method prints the value of the base_price instance variable.\n",
    "-  The revise_base_price method modifies the value of the base_price class variable by adding a percentage of itself based on the inflation parameter.\n",
    "-  The @classmethod decorator is used to indicate that the revise_base_price method is a class method, which means it can be called on the class itself rather than on an instance of the class."
   ]
  },
  {
   "cell_type": "code",
   "execution_count": null,
   "id": "0550cdc9-aa0e-44f6-a1f3-bd8e0c2af747",
   "metadata": {},
   "outputs": [],
   "source": []
  }
 ],
 "metadata": {
  "kernelspec": {
   "display_name": "Python 3 (ipykernel)",
   "language": "python",
   "name": "python3"
  },
  "language_info": {
   "codemirror_mode": {
    "name": "ipython",
    "version": 3
   },
   "file_extension": ".py",
   "mimetype": "text/x-python",
   "name": "python",
   "nbconvert_exporter": "python",
   "pygments_lexer": "ipython3",
   "version": "3.12.7"
  }
 },
 "nbformat": 4,
 "nbformat_minor": 5
}
