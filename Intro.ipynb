{
 "cells": [
  {
   "cell_type": "code",
   "execution_count": 10,
   "id": "acfcc767-ff42-4b7b-9aaf-b25b46036c1f",
   "metadata": {},
   "outputs": [
    {
     "name": "stdout",
     "output_type": "stream",
     "text": [
      "My first name is Vishnu and last name is Mannam.\n",
      "My first name is Vishnu and last name is Mannam.\n"
     ]
    }
   ],
   "source": [
    "#Ways of printing\n",
    "first_name = 'Vishnu'\n",
    "last_name = 'Mannam'\n",
    "print(\"My first name is {} and last name is {}.\".format(first_name,last_name))\n",
    "# alternate method\n",
    "print(\"My first name is {first} and last name is {last}.\".format(first = first_name,last = last_name))"
   ]
  },
  {
   "cell_type": "code",
   "execution_count": 14,
   "id": "883cce05-c6c4-44cf-a1dd-a125fa3349e2",
   "metadata": {},
   "outputs": [
    {
     "data": {
      "text/plain": [
       "bool"
      ]
     },
     "execution_count": 14,
     "metadata": {},
     "output_type": "execute_result"
    }
   ],
   "source": [
    "#Boolean variables\n",
    "type(False)"
   ]
  },
  {
   "cell_type": "code",
   "execution_count": 16,
   "id": "248eb8c7-3410-4854-bc5c-679798d3b988",
   "metadata": {},
   "outputs": [],
   "source": [
    "#String inbuilt functions\n",
    "my_str = 'Vishnu Mannam'"
   ]
  },
  {
   "cell_type": "code",
   "execution_count": 20,
   "id": "7f03d1c1-3557-4a8b-b8b0-3f423681f544",
   "metadata": {},
   "outputs": [
    {
     "name": "stdout",
     "output_type": "stream",
     "text": [
      "False\n",
      "False\n",
      "False\n",
      "True\n"
     ]
    }
   ],
   "source": [
    "# There are many such fucntions, that can be explored after pressing tab after \"my_str.\" Shift tab shows what the function does\n",
    "print(my_str.isalnum()) # check if all characters are numbers\n",
    "print(my_str.isalpha()) # check if all characters are alphabets\n",
    "print(my_str.isdigit()) # check if all characters are digits\n",
    "print(my_str.istitle()) # test if string contains title words"
   ]
  },
  {
   "cell_type": "code",
   "execution_count": 36,
   "id": "ee9c9462-df22-449e-8c45-e51ffdb4d900",
   "metadata": {},
   "outputs": [
    {
     "data": {
      "text/plain": [
       "['DTAN 500', 'DTAN 505', 100, 200, 300, 400, 'Vishnu', ['Sunny', 'Mack']]"
      ]
     },
     "execution_count": 36,
     "metadata": {},
     "output_type": "execute_result"
    }
   ],
   "source": [
    "# Python lists\n",
    "lst = list()\n",
    "lst = [\"DTAN 500\", \"DTAN 505\", 100, 200, 300, 400]\n",
    "\n",
    "# Append\n",
    "lst.append(\"Vishnu\")\n",
    "lst.append([\"Sunny\", \"Mack\"])\n",
    "\n",
    "# Indexing\n",
    "lst[:] #Gets all the values"
   ]
  },
  {
   "cell_type": "code",
   "execution_count": 38,
   "id": "6c352aea-1237-4101-99eb-f6526390a4a4",
   "metadata": {},
   "outputs": [],
   "source": [
    "# Insert\n",
    "lst.insert(2, \"Tim\")"
   ]
  },
  {
   "cell_type": "code",
   "execution_count": 40,
   "id": "e24d8e4b-ae3e-44e1-9bad-b5305a9770e6",
   "metadata": {},
   "outputs": [
    {
     "data": {
      "text/plain": [
       "['DTAN 500',\n",
       " 'DTAN 505',\n",
       " 'Tim',\n",
       " 100,\n",
       " 200,\n",
       " 300,\n",
       " 400,\n",
       " 'Vishnu',\n",
       " ['Sunny', 'Mack']]"
      ]
     },
     "execution_count": 40,
     "metadata": {},
     "output_type": "execute_result"
    }
   ],
   "source": [
    "lst"
   ]
  },
  {
   "cell_type": "markdown",
   "id": "a1b8a16d-bf26-45c7-b27c-0bdf98f4f432",
   "metadata": {},
   "source": [
    "## Extend"
   ]
  },
  {
   "cell_type": "code",
   "execution_count": 59,
   "id": "f24f1fab-65a4-47e4-aab6-f4cb66aadb2d",
   "metadata": {},
   "outputs": [],
   "source": [
    "new = [1,2,3,4,5,6]"
   ]
  },
  {
   "cell_type": "code",
   "execution_count": 61,
   "id": "72867ff6-3f7b-49e1-a57e-b5f9faddffe7",
   "metadata": {},
   "outputs": [],
   "source": [
    "new.extend([8,9])"
   ]
  },
  {
   "cell_type": "code",
   "execution_count": 63,
   "id": "a298e851-27a8-4fbd-bcbf-beae136a7135",
   "metadata": {},
   "outputs": [
    {
     "data": {
      "text/plain": [
       "[1, 2, 3, 4, 5, 6, 8, 9]"
      ]
     },
     "execution_count": 63,
     "metadata": {},
     "output_type": "execute_result"
    }
   ],
   "source": [
    "new"
   ]
  },
  {
   "cell_type": "code",
   "execution_count": 65,
   "id": "3c360f23-750c-4908-bad0-0b0bfd36c5c1",
   "metadata": {},
   "outputs": [
    {
     "data": {
      "text/plain": [
       "9"
      ]
     },
     "execution_count": 65,
     "metadata": {},
     "output_type": "execute_result"
    }
   ],
   "source": [
    "new.pop() # removes the last element"
   ]
  },
  {
   "cell_type": "code",
   "execution_count": 69,
   "id": "7879b7b6-e123-444e-8497-2172e5b969eb",
   "metadata": {},
   "outputs": [
    {
     "data": {
      "text/plain": [
       "1"
      ]
     },
     "execution_count": 69,
     "metadata": {},
     "output_type": "execute_result"
    }
   ],
   "source": [
    "new.pop(0)"
   ]
  },
  {
   "cell_type": "code",
   "execution_count": 71,
   "id": "5244bb16-ac21-4ac4-9f6d-506291315880",
   "metadata": {},
   "outputs": [
    {
     "data": {
      "text/plain": [
       "[2, 3, 4, 5, 6, 8]"
      ]
     },
     "execution_count": 71,
     "metadata": {},
     "output_type": "execute_result"
    }
   ],
   "source": [
    "new"
   ]
  },
  {
   "cell_type": "code",
   "execution_count": 73,
   "id": "0252c773-fa49-4c06-98df-8b87a1749f8c",
   "metadata": {},
   "outputs": [
    {
     "data": {
      "text/plain": [
       "6"
      ]
     },
     "execution_count": 73,
     "metadata": {},
     "output_type": "execute_result"
    }
   ],
   "source": [
    "len(new)"
   ]
  },
  {
   "cell_type": "markdown",
   "id": "d6e77107-fb85-466f-b2fc-0ee47ca42d43",
   "metadata": {},
   "source": [
    "# SETS"
   ]
  },
  {
   "cell_type": "markdown",
   "id": "9c120c96-c41b-4b83-b709-30c0e69e2aa1",
   "metadata": {},
   "source": [
    "A set is an unordered collection datatype that is iterable, mutable and has no duplicate elements.Python's set class\n",
    "represent the mathematical notion of a set. This is based on a data structure known as hash table."
   ]
  },
  {
   "cell_type": "code",
   "execution_count": 6,
   "id": "d5a5bc48-4abc-40e8-adc1-c7b8f288506f",
   "metadata": {},
   "outputs": [
    {
     "name": "stdout",
     "output_type": "stream",
     "text": [
      "set()\n",
      "<class 'set'>\n"
     ]
    }
   ],
   "source": [
    "## Defining an empty set\n",
    "set_var = set()\n",
    "print(set_var)\n",
    "print(type(set_var))"
   ]
  },
  {
   "cell_type": "code",
   "execution_count": 16,
   "id": "62f06d1b-9686-454f-91e5-6a42a90d8822",
   "metadata": {},
   "outputs": [
    {
     "name": "stdout",
     "output_type": "stream",
     "text": [
      "{'Lewis Hamilton', 'Charles Leclerc', 'Max Verstappen'}\n"
     ]
    },
    {
     "data": {
      "text/plain": [
       "set"
      ]
     },
     "execution_count": 16,
     "metadata": {},
     "output_type": "execute_result"
    }
   ],
   "source": [
    "set_var={\"Max Verstappen\", \"Lewis Hamilton\", \"Charles Leclerc\"}\n",
    "print(set_var)\n",
    "type(set_var)"
   ]
  },
  {
   "cell_type": "code",
   "execution_count": 14,
   "id": "8256bb91-f505-48cd-a5c3-a52052c21408",
   "metadata": {},
   "outputs": [
    {
     "name": "stdout",
     "output_type": "stream",
     "text": [
      "{'Lando Norris', 'Lewis Hamilton', 'Charles Leclerc', 'Max Verstappen'}\n"
     ]
    }
   ],
   "source": [
    "set_var.add(\"Lando Norris\")\n",
    "print(set_var)"
   ]
  },
  {
   "cell_type": "code",
   "execution_count": 20,
   "id": "891a3318-1d6c-4f07-880c-753be3ea39cc",
   "metadata": {},
   "outputs": [],
   "source": [
    "set1 = {\"Max Verstappen\", \"Lewis Hamilton\", \"Charles Leclerc\"}\n",
    "set2 = {'Lando Norris', 'Lewis Hamilton', 'Charles Leclerc', 'Max Verstappen'}\n",
    "#Difference\n",
    "set2.difference_update(set1)"
   ]
  },
  {
   "cell_type": "code",
   "execution_count": 22,
   "id": "136c6e83-e9b8-4a5b-8678-05844291f983",
   "metadata": {},
   "outputs": [
    {
     "data": {
      "text/plain": [
       "{'Lando Norris'}"
      ]
     },
     "execution_count": 22,
     "metadata": {},
     "output_type": "execute_result"
    }
   ],
   "source": [
    "set2"
   ]
  },
  {
   "cell_type": "markdown",
   "id": "26309270-d20e-4eb5-888f-0fd69854d2aa",
   "metadata": {},
   "source": [
    "# Dictionaries"
   ]
  },
  {
   "cell_type": "markdown",
   "id": "625c0ccc-4a8c-4f95-b2f3-68d9d78c258b",
   "metadata": {},
   "source": [
    "A dictionary is a collection which is unordered, changeable and indexed.In python dictionaries are written in curly brackets,\n",
    "and they have keys and values"
   ]
  },
  {
   "cell_type": "code",
   "execution_count": 28,
   "id": "e6dc1587-0477-40ee-8db3-432396bb0f15",
   "metadata": {},
   "outputs": [],
   "source": [
    "my_dict = {\"Car1\": \"Porsche\", \"Car2\": \"Audi\", \"Car3\": \"BMW\"}"
   ]
  },
  {
   "cell_type": "markdown",
   "id": "0cf58444-6683-4607-9363-5a452c83324f",
   "metadata": {},
   "source": [
    "In dictionaries, indexing will be not an index number, but it will be our key name, which is \"Car1\" in this case."
   ]
  },
  {
   "cell_type": "code",
   "execution_count": 31,
   "id": "18b97095-8527-4ab6-b8a1-3ad6ba97c01f",
   "metadata": {},
   "outputs": [
    {
     "data": {
      "text/plain": [
       "'Porsche'"
      ]
     },
     "execution_count": 31,
     "metadata": {},
     "output_type": "execute_result"
    }
   ],
   "source": [
    "my_dict['Car1']"
   ]
  },
  {
   "cell_type": "code",
   "execution_count": 35,
   "id": "05fec503-0e9a-4605-b585-f4626d935803",
   "metadata": {},
   "outputs": [
    {
     "name": "stdout",
     "output_type": "stream",
     "text": [
      "Porsche\n",
      "Audi\n",
      "BMW\n"
     ]
    }
   ],
   "source": [
    "# Loop through dictionary values\n",
    "for x in my_dict.values():\n",
    "    print(x)"
   ]
  },
  {
   "cell_type": "code",
   "execution_count": 37,
   "id": "661cea44-20cb-49b5-8213-080d9abbc82d",
   "metadata": {},
   "outputs": [
    {
     "name": "stdout",
     "output_type": "stream",
     "text": [
      "('Car1', 'Porsche')\n",
      "('Car2', 'Audi')\n",
      "('Car3', 'BMW')\n"
     ]
    }
   ],
   "source": [
    "# Check both keys and values\n",
    "for x in my_dict.items():\n",
    "    print(x)"
   ]
  },
  {
   "cell_type": "code",
   "execution_count": 44,
   "id": "9058fef1-23ef-4074-956d-33fdd7c43939",
   "metadata": {},
   "outputs": [],
   "source": [
    "# Add new key\n",
    "my_dict['Car4'] = 'Ferrari' # Remember appending existing keys, they will be overridden and the new value will be replaced."
   ]
  },
  {
   "cell_type": "code",
   "execution_count": 46,
   "id": "4f2fcbb9-2cde-4c93-90ef-e1dea842a204",
   "metadata": {},
   "outputs": [
    {
     "data": {
      "text/plain": [
       "{'Car1': 'Porsche', 'Car2': 'Audi', 'Car3': 'BMW', 'Car4': 'Ferrari'}"
      ]
     },
     "execution_count": 46,
     "metadata": {},
     "output_type": "execute_result"
    }
   ],
   "source": [
    "my_dict"
   ]
  },
  {
   "cell_type": "markdown",
   "id": "e2a260ab-084c-41e1-a70c-e492ade25351",
   "metadata": {},
   "source": [
    "## Nested dictionary"
   ]
  },
  {
   "cell_type": "code",
   "execution_count": 66,
   "id": "1ac02b19-33e9-4a5a-9e5d-f49e40eacbc0",
   "metadata": {},
   "outputs": [],
   "source": [
    "car1_model = {'Mercedes', 1960}\n",
    "car2_model = {'Audi', 2024}\n",
    "car3_model = {'BMW', 2022}\n",
    "\n",
    "car_type = {'car1':car1_model,'car2':car2_model,'car3':car3_model}"
   ]
  },
  {
   "cell_type": "code",
   "execution_count": 68,
   "id": "2997a14d-e70d-4f96-a073-0b32e68e4c3a",
   "metadata": {},
   "outputs": [
    {
     "name": "stdout",
     "output_type": "stream",
     "text": [
      "{'car1': {1960, 'Mercedes'}, 'car2': {2024, 'Audi'}, 'car3': {'BMW', 2022}}\n"
     ]
    }
   ],
   "source": [
    "print(car_type)"
   ]
  },
  {
   "cell_type": "code",
   "execution_count": 70,
   "id": "2afb7738-1beb-4fa3-802c-0eca6b66f371",
   "metadata": {},
   "outputs": [
    {
     "name": "stdout",
     "output_type": "stream",
     "text": [
      "{1960, 'Mercedes'}\n"
     ]
    }
   ],
   "source": [
    "print(car_type['car1'])"
   ]
  },
  {
   "cell_type": "markdown",
   "id": "5b5f907b-8206-4c8c-9a88-745e30871c97",
   "metadata": {},
   "source": [
    "# Tuples"
   ]
  },
  {
   "cell_type": "markdown",
   "id": "cb2116cb-3517-4e06-b1d7-40a65bb858d6",
   "metadata": {},
   "source": [
    "Tuples are used in places where definition of an item is used only once. We can replace it after a single use,\n",
    "but not modify it."
   ]
  },
  {
   "cell_type": "code",
   "execution_count": 81,
   "id": "d07faa36-55cd-44a3-972f-8bc7423ef3cd",
   "metadata": {},
   "outputs": [],
   "source": [
    "## Creating empty tuple (We cannot change a tuple once it is created)\n",
    "\n",
    "my_tuple = (\"Sunny\", \"Jayce\", \"Me\")"
   ]
  },
  {
   "cell_type": "code",
   "execution_count": 83,
   "id": "7b89c5fb-aae1-403d-a969-042bdf0329cc",
   "metadata": {},
   "outputs": [
    {
     "name": "stdout",
     "output_type": "stream",
     "text": [
      "('Sunny', 'Jayce', 'Me')\n"
     ]
    }
   ],
   "source": [
    "print(my_tuple)"
   ]
  }
 ],
 "metadata": {
  "kernelspec": {
   "display_name": "Python 3 (ipykernel)",
   "language": "python",
   "name": "python3"
  },
  "language_info": {
   "codemirror_mode": {
    "name": "ipython",
    "version": 3
   },
   "file_extension": ".py",
   "mimetype": "text/x-python",
   "name": "python",
   "nbconvert_exporter": "python",
   "pygments_lexer": "ipython3",
   "version": "3.12.7"
  }
 },
 "nbformat": 4,
 "nbformat_minor": 5
}
