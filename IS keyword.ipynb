{
 "cells": [
  {
   "cell_type": "code",
   "execution_count": 3,
   "id": "b341e3a7-0d48-45b4-9b16-bda6476c8bf5",
   "metadata": {},
   "outputs": [
    {
     "data": {
      "text/plain": [
       "True"
      ]
     },
     "execution_count": 3,
     "metadata": {},
     "output_type": "execute_result"
    }
   ],
   "source": [
    "#is vs ==\n",
    "lst1=[\"Vishnu\",\"Mannam\",\"Sunny\"]\n",
    "lst2=[\"Vishnu\",\"Mannam\",\"Sunny\"]\n",
    "lst1==lst2 #Compares the elements in list"
   ]
  },
  {
   "cell_type": "code",
   "execution_count": 5,
   "id": "5cd6ec64-39b1-4b06-b734-eefc7de7d07e",
   "metadata": {},
   "outputs": [
    {
     "data": {
      "text/plain": [
       "True"
      ]
     },
     "execution_count": 5,
     "metadata": {},
     "output_type": "execute_result"
    }
   ],
   "source": [
    "a=\"Krish\"\n",
    "b=\"Krish\"\n",
    "a==b"
   ]
  },
  {
   "cell_type": "code",
   "execution_count": 13,
   "id": "12a3478c-620e-46f1-baed-64c5d54a3f64",
   "metadata": {},
   "outputs": [
    {
     "data": {
      "text/plain": [
       "True"
      ]
     },
     "execution_count": 13,
     "metadata": {},
     "output_type": "execute_result"
    }
   ],
   "source": [
    "lst1=[\"Vishnu\",\"Mannam\",\"Sunny\"]\n",
    "lst2=lst1\n",
    "lst1 is lst2"
   ]
  },
  {
   "cell_type": "code",
   "execution_count": 15,
   "id": "bbffaafe-496a-49ae-94b4-83c5d47f3661",
   "metadata": {},
   "outputs": [
    {
     "data": {
      "text/plain": [
       "True"
      ]
     },
     "execution_count": 15,
     "metadata": {},
     "output_type": "execute_result"
    }
   ],
   "source": [
    "lst2 is lst1"
   ]
  },
  {
   "cell_type": "markdown",
   "id": "92acb7b9-9334-47c6-9a57-6fc43160d5dd",
   "metadata": {},
   "source": [
    "Is key word is not just about the elements in list, it is also about the memory allocation. Only one object will be created in memory location and both of the lists will refer to that same memory location. In ==, it basically creates lists in two memory locations.\n"
   ]
  },
  {
   "cell_type": "markdown",
   "id": "32ed1aa4-13c6-4225-9d77-a353caf03a90",
   "metadata": {},
   "source": [
    "### Gemini notes\n",
    "\n",
    "Key takeaways:\n",
    "\n",
    "-  Use is when you want to know if two variables refer to the exact same object.\n",
    "-  Use == when you want to know if two variables have the same value, regardless of whether they are the same object.\n",
    "is is faster than == because it only compares memory addresses."
   ]
  },
  {
   "cell_type": "code",
   "execution_count": 21,
   "id": "65c0b1ca-7bcd-4bf0-9a4e-fce19f91599b",
   "metadata": {},
   "outputs": [],
   "source": [
    "lst1[0]=\"Sree\""
   ]
  },
  {
   "cell_type": "code",
   "execution_count": 23,
   "id": "d676b390-47e9-4130-874f-f19f4690c350",
   "metadata": {},
   "outputs": [
    {
     "data": {
      "text/plain": [
       "['Sree', 'Mannam', 'Sunny']"
      ]
     },
     "execution_count": 23,
     "metadata": {},
     "output_type": "execute_result"
    }
   ],
   "source": [
    "lst2"
   ]
  },
  {
   "cell_type": "code",
   "execution_count": 25,
   "id": "afb88b6e-eead-4104-b8f1-619f3d45d17f",
   "metadata": {},
   "outputs": [
    {
     "data": {
      "text/plain": [
       "['Sree', 'Mannam', 'Sunny']"
      ]
     },
     "execution_count": 25,
     "metadata": {},
     "output_type": "execute_result"
    }
   ],
   "source": [
    "lst1"
   ]
  }
 ],
 "metadata": {
  "kernelspec": {
   "display_name": "Python 3 (ipykernel)",
   "language": "python",
   "name": "python3"
  },
  "language_info": {
   "codemirror_mode": {
    "name": "ipython",
    "version": 3
   },
   "file_extension": ".py",
   "mimetype": "text/x-python",
   "name": "python",
   "nbconvert_exporter": "python",
   "pygments_lexer": "ipython3",
   "version": "3.12.7"
  }
 },
 "nbformat": 4,
 "nbformat_minor": 5
}
